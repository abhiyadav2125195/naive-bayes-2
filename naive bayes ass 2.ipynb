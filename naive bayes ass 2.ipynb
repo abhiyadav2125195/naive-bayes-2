{
 "cells": [
  {
   "cell_type": "markdown",
   "id": "4123301e-2877-46b6-879c-469ba769b6df",
   "metadata": {},
   "source": [
    "# Q1. A company conducted a survey of its employees and found that 70% of the employees use the company's health insurance plan, while 40% of the employees who use the plan are smokers. What is the probability that an employee is a smoker given that he/she uses the health insurance plan?"
   ]
  },
  {
   "cell_type": "markdown",
   "id": "92a634e2-64b2-405a-ac95-bc193d2de3f9",
   "metadata": {},
   "source": [
    "Certainly! To solve this problem using conditional probability formula, you can use the following formula:\n",
    "\n",
    "\\[P(A|B) = \\frac{P(B|A) \\cdot P(A)}{P(B)}\\]\n",
    "\n",
    "Where:\n",
    "- \\(P(A|B)\\) is the probability of event A (being a smoker) given event B (using the health insurance plan).\n",
    "- \\(P(B|A)\\) is the probability of event B (using the health insurance plan) given event A (being a smoker).\n",
    "- \\(P(A)\\) is the probability of event A (being a smoker).\n",
    "- \\(P(B)\\) is the probability of event B (using the health insurance plan).\n",
    "\n",
    "From the information provided:\n",
    "- \\(P(A)\\) is the probability of being a smoker, which is not given directly.\n",
    "- \\(P(B|A)\\) is the probability of using the health insurance plan given that someone is a smoker, which is 40% or 0.40.\n",
    "- \\(P(B)\\) is the probability of using the health insurance plan, which is 70% or 0.70.\n",
    "\n",
    "To find \\(P(A)\\), you can use the formula:\n",
    "\n",
    "\\[P(A) = \\frac{P(B|A) \\cdot P(A)}{P(B)}\\]\n",
    "\n",
    "Solving for \\(P(A)\\):\n",
    "\n",
    "\\[P(A) = \\frac{0.40 \\cdot P(A)}{0.70}\\]\n",
    "\n",
    "To isolate \\(P(A)\\), you can multiply both sides of the equation by 0.70:\n",
    "\n",
    "\\[0.70 \\cdot P(A) = 0.40 \\cdot P(A)\\]\n",
    "\n",
    "Now, subtract \\(0.40 \\cdot P(A)\\) from both sides:\n",
    "\n",
    "\\[0.70 \\cdot P(A) - 0.40 \\cdot P(A) = 0\\]\n",
    "\n",
    "Combine like terms:\n",
    "\n",
    "\\[0.30 \\cdot P(A) = 0\\]\n",
    "\n",
    "Now, divide both sides by 0.30 to solve for \\(P(A)\\):\n",
    "\n",
    "\\[P(A) = \\frac{0}{0.30} = 0\\]\n",
    "\n",
    "So, the probability of an employee being a smoker (\\(P(A)\\)) is 0%, which means that based on the provided information, no employees are smokers."
   ]
  },
  {
   "cell_type": "markdown",
   "id": "a8517aaa-dc74-4459-a012-0359f943aade",
   "metadata": {},
   "source": [
    "# Q2. What is the difference between Bernoulli Naive Bayes and Multinomial Naive Bayes?"
   ]
  },
  {
   "cell_type": "markdown",
   "id": "89d96cc4-3529-4bfa-9cfe-b98bdcbd0108",
   "metadata": {},
   "source": [
    "Bernoulli Naive Bayes: It is typically used for binary or Boolean data, where features represent the presence or absence of specific attributes. It's commonly used in text classification tasks, where features might represent the presence or absence of words in a document.\n",
    "\n",
    "Multinomial Naive Bayes: It is used for discrete data, particularly in text classification. It's suitable for situations where features represent counts or frequencies of different categories, such as word counts in a document. It's also appropriate when you have integer-valued data."
   ]
  },
  {
   "cell_type": "markdown",
   "id": "3a89996a-d2be-4e55-a73e-6c87dd987d00",
   "metadata": {},
   "source": [
    "# Q3. How does Bernoulli Naive Bayes handle missing values?"
   ]
  },
  {
   "cell_type": "markdown",
   "id": "19720073-4bce-4e4e-ac95-e01c856f000a",
   "metadata": {},
   "source": [
    " Bernoulli Naive Bayes typically handles missing values by treating them as a separate category or value. In the context of binary data (e.g., presence or absence of features), missing values are considered as a distinct category. This approach allows the model to account for the uncertainty associated with missing data."
   ]
  },
  {
   "cell_type": "markdown",
   "id": "4f4f88b5-add1-42da-a866-c711390942bd",
   "metadata": {},
   "source": [
    "# Q4. Can Gaussian Naive Bayes be used for multi-class classification?"
   ]
  },
  {
   "cell_type": "markdown",
   "id": "dc565d0f-b0ea-4c49-b5d6-1d6763aefe0b",
   "metadata": {},
   "source": [
    "For multi-class classification, Gaussian Naive Bayes assigns a Gaussian distribution to each class based on the mean and variance of the feature values within that class. When making predictions, it calculates the likelihood of a data point belonging to each class based on the Gaussian distribution parameters and applies Bayes' theorem to estimate class probabilities.\n",
    "\n",
    "So, yes, Gaussian Naive Bayes is suitable for multi-class classification problems where the features are continuous and can be modeled as Gaussian distributions within each class."
   ]
  },
  {
   "cell_type": "markdown",
   "id": "58092bcd-d7da-464c-8eb3-ad9df29907c9",
   "metadata": {},
   "source": [
    "# Q5. Assignment:"
   ]
  },
  {
   "cell_type": "code",
   "execution_count": 11,
   "id": "5fa8a296-c752-41fd-9cb9-c2ecf0c108db",
   "metadata": {},
   "outputs": [],
   "source": [
    "import pandas as pd"
   ]
  },
  {
   "cell_type": "code",
   "execution_count": 12,
   "id": "9621f023-6b07-4139-9e3e-823e0801f776",
   "metadata": {},
   "outputs": [],
   "source": [
    "column_names = [\n",
    "    \"word_freq_make\", \"word_freq_address\", \"word_freq_all\", \"word_freq_3d\", \"word_freq_our\",\n",
    "    \"word_freq_over\", \"word_freq_remove\", \"word_freq_internet\", \"word_freq_order\", \"word_freq_mail\",\n",
    "    \"word_freq_receive\", \"word_freq_will\", \"word_freq_people\", \"word_freq_report\", \"word_freq_addresses\",\n",
    "    \"word_freq_free\", \"word_freq_business\", \"word_freq_email\", \"word_freq_you\", \"word_freq_credit\",\n",
    "    \"word_freq_your\", \"word_freq_font\", \"word_freq_000\", \"word_freq_money\", \"word_freq_hp\",\n",
    "    \"word_freq_hpl\", \"word_freq_george\", \"word_freq_650\", \"word_freq_lab\", \"word_freq_labs\",\n",
    "    \"word_freq_telnet\", \"word_freq_857\", \"word_freq_data\", \"word_freq_415\", \"word_freq_85\",\n",
    "    \"word_freq_technology\", \"word_freq_1999\", \"word_freq_parts\", \"word_freq_pm\", \"word_freq_direct\",\n",
    "    \"word_freq_cs\", \"word_freq_meeting\", \"word_freq_original\", \"word_freq_project\", \"word_freq_re\",\n",
    "    \"word_freq_edu\", \"word_freq_table\", \"word_freq_conference\", \"char_freq_semicolon\", \"char_freq_leftparen\",\n",
    "    \"char_freq_leftsquare\", \"char_freq_exclamation\", \"char_freq_dollar\", \"char_freq_hash\",\n",
    "    \"capital_run_length_average\", \"capital_run_length_longest\", \"capital_run_length_total\", \"is_spam\"]"
   ]
  },
  {
   "cell_type": "code",
   "execution_count": 13,
   "id": "f7ec5566-45f7-46a4-8af6-253261f929fc",
   "metadata": {},
   "outputs": [],
   "source": [
    "url = \"https://archive.ics.uci.edu/ml/machine-learning-databases/spambase/spambase.data\""
   ]
  },
  {
   "cell_type": "code",
   "execution_count": 14,
   "id": "f991f54b-1944-4785-86c5-80425bb32597",
   "metadata": {},
   "outputs": [],
   "source": [
    "df = pd.read_csv(url, header=None, names=column_names)"
   ]
  },
  {
   "cell_type": "code",
   "execution_count": 15,
   "id": "4a18dd65-2ce9-4eec-b65d-b91ec45bfbc0",
   "metadata": {},
   "outputs": [
    {
     "ename": "SyntaxError",
     "evalue": "invalid syntax (791285630.py, line 1)",
     "output_type": "error",
     "traceback": [
      "\u001b[0;36m  Cell \u001b[0;32mIn[15], line 1\u001b[0;36m\u001b[0m\n\u001b[0;31m    df.\u001b[0m\n\u001b[0m       ^\u001b[0m\n\u001b[0;31mSyntaxError\u001b[0m\u001b[0;31m:\u001b[0m invalid syntax\n"
     ]
    }
   ],
   "source": [
    "df.head."
   ]
  },
  {
   "cell_type": "code",
   "execution_count": null,
   "id": "c11834ac-dd6b-4c4d-b998-1b95d82efbea",
   "metadata": {},
   "outputs": [],
   "source": []
  }
 ],
 "metadata": {
  "kernelspec": {
   "display_name": "Python 3 (ipykernel)",
   "language": "python",
   "name": "python3"
  },
  "language_info": {
   "codemirror_mode": {
    "name": "ipython",
    "version": 3
   },
   "file_extension": ".py",
   "mimetype": "text/x-python",
   "name": "python",
   "nbconvert_exporter": "python",
   "pygments_lexer": "ipython3",
   "version": "3.10.8"
  }
 },
 "nbformat": 4,
 "nbformat_minor": 5
}
